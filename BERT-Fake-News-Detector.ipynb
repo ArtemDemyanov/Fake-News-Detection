{
  "nbformat": 4,
  "nbformat_minor": 0,
  "metadata": {
    "colab": {
      "provenance": [],
      "machine_shape": "hm",
      "gpuType": "A100"
    },
    "kernelspec": {
      "name": "python3",
      "display_name": "Python 3"
    },
    "language_info": {
      "name": "python"
    },
    "accelerator": "GPU"
  },
  "cells": [
    {
      "cell_type": "code",
      "source": [
        "# Core data and processing libraries\n",
        "import kagglehub\n",
        "import pandas as pd\n",
        "import numpy as np\n",
        "import re\n",
        "import os\n",
        "\n",
        "# For train/val/test split\n",
        "from sklearn.model_selection import train_test_split\n",
        "\n",
        "import warnings\n",
        "\n",
        "warnings.filterwarnings('ignore')  # Suppress warnings for cleaner output"
      ],
      "metadata": {
        "id": "TxanzvmWEKYd"
      },
      "execution_count": 72,
      "outputs": []
    },
    {
      "cell_type": "code",
      "source": [
        "# Download and load all dataset splits\n",
        "def load_data():\n",
        "    path = kagglehub.dataset_download(\"csmalarkodi/liar-fake-news-dataset\")\n",
        "    print(\"Downloaded dataset files to:\", path)\n",
        "\n",
        "    # Load each split separately\n",
        "    train_df = pd.read_csv('/kaggle/input/liar-fake-news-dataset/train.tsv', sep='\\t', header=None)\n",
        "    val_df = pd.read_csv('/kaggle/input/liar-fake-news-dataset/valid.tsv', sep='\\t', header=None)\n",
        "    test_df = pd.read_csv('/kaggle/input/liar-fake-news-dataset/test.tsv', sep='\\t', header=None)\n",
        "\n",
        "    # Combine for unified preprocessing\n",
        "    df = pd.concat([train_df, val_df, test_df], ignore_index=True)\n",
        "\n",
        "    # Drop index column if exists\n",
        "    if 0 in df.columns:\n",
        "        df = df.drop(0, axis=1)\n",
        "\n",
        "    # Rename columns for clarity\n",
        "    df.columns = [\n",
        "        \"label\", \"statement\", \"subject\", \"speaker\", \"speaker_job_title\",\n",
        "        \"speaker_state\", \"speaker_party\", \"barely_true_counts\", \"false_counts\",\n",
        "        \"half_true_counts\", \"mostly_true_counts\", \"pants_on_fire_counts\", \"context\"\n",
        "    ]\n",
        "\n",
        "    return df, train_df.shape[0], val_df.shape[0]\n"
      ],
      "metadata": {
        "id": "w6MhLV6tELrO"
      },
      "execution_count": 73,
      "outputs": []
    },
    {
      "cell_type": "code",
      "source": [
        "# Clean and transform the dataset\n",
        "def preprocess_data(df):\n",
        "    # Lowercase column names\n",
        "    df.columns = [c.lower() for c in df.columns]\n",
        "\n",
        "    # Map original 6-class label to binary: fake (1), real (0)\n",
        "    def map_label_to_binary(label_str):\n",
        "        fake_labels = [\"pants-fire\", \"false\", \"barely-true\"]\n",
        "        return 1 if label_str in fake_labels else 0\n",
        "\n",
        "    df['label'] = df['label'].apply(map_label_to_binary)\n",
        "\n",
        "    # Basic text cleaning\n",
        "    def clean_text(text):\n",
        "        if pd.isna(text):\n",
        "            return \"\"\n",
        "        text = text.lower()\n",
        "        text = re.sub(r'http\\S+|www\\.\\S+', '', text)\n",
        "        text = re.sub(r'[^\\w\\s.,!?]', '', text)\n",
        "        text = re.sub(r'\\s+', ' ', text).strip()       # normalize whitespace\n",
        "        return text\n",
        "\n",
        "    # Apply text cleaning to relevant columns\n",
        "    text_columns = ['statement', 'subject', 'speaker', 'speaker_job_title', 'context']\n",
        "    for col in text_columns:\n",
        "        df[col] = df[col].fillna('').apply(clean_text)\n",
        "\n",
        "    # Combine all text into one field for modeling\n",
        "    df['combined_text'] = (\n",
        "        df['statement'] + ' ' +\n",
        "        df['subject'] + ' ' +\n",
        "        df['speaker'] + ' ' +\n",
        "        df['speaker_job_title'] + ' ' +\n",
        "        df['context']\n",
        "    )\n",
        "\n",
        "    # Create credibility and fake ratio features\n",
        "    df['total_checks'] = df[['barely_true_counts', 'false_counts',\n",
        "                             'half_true_counts', 'mostly_true_counts',\n",
        "                             'pants_on_fire_counts']].sum(axis=1)\n",
        "\n",
        "    df['fake_ratio'] = (df['barely_true_counts'] + df['false_counts'] + df['pants_on_fire_counts']) / df['total_checks']\n",
        "    df['fake_ratio'] = df['fake_ratio'].fillna(0)\n",
        "\n",
        "    # Drop rows without labels\n",
        "    df = df.dropna(subset=['label'])\n",
        "\n",
        "    # Drop unused original columns\n",
        "    df = df.drop(columns=[\n",
        "        'statement', 'subject', 'speaker', 'speaker_job_title', 'context',\n",
        "        'barely_true_counts', 'false_counts', 'half_true_counts',\n",
        "        'mostly_true_counts', 'pants_on_fire_counts', 'total_checks',\n",
        "        'speaker_state', 'speaker_party'\n",
        "    ])\n",
        "\n",
        "    return df\n"
      ],
      "metadata": {
        "id": "0LLUlO4YEY3i"
      },
      "execution_count": 89,
      "outputs": []
    },
    {
      "cell_type": "code",
      "source": [
        "# Load and preprocess dataset\n",
        "df, train_size, val_size = load_data()\n",
        "df = preprocess_data(df)"
      ],
      "metadata": {
        "id": "Uy1twVaKEfhC",
        "colab": {
          "base_uri": "https://localhost:8080/"
        },
        "outputId": "77d0a311-5b27-4518-9859-d043927528df"
      },
      "execution_count": 90,
      "outputs": [
        {
          "output_type": "stream",
          "name": "stdout",
          "text": [
            "Downloaded dataset files to: /kaggle/input/liar-fake-news-dataset\n"
          ]
        }
      ]
    },
    {
      "cell_type": "code",
      "source": [
        "# Import NLP libraries\n",
        "import spacy\n",
        "from spacy.pipeline import EntityRuler\n",
        "\n",
        "# Load spaCy model (disable parser and built-in NER for performance)\n",
        "nlp = spacy.load(\"en_core_web_sm\", disable=[\"parser\", \"ner\"])"
      ],
      "metadata": {
        "id": "BcXuYURcE9N_"
      },
      "execution_count": 91,
      "outputs": []
    },
    {
      "cell_type": "code",
      "source": [
        "# Set up the custom rule-based entity recognizer\n",
        "def setup_entity_ruler(nlp):\n",
        "    ruler = nlp.add_pipe(\n",
        "        \"entity_ruler\",\n",
        "        config={\"overwrite_ents\": True},\n",
        "        name=\"custom_ruler\",\n",
        "        before=\"tok2vec\"  # Place before any token vector encoding\n",
        "    )\n",
        "\n",
        "    # Define phrase patterns for semantic categories\n",
        "    disappointed_phrases = [\n",
        "        \"disappointing\", \"let down\", \"failed to\", \"broken promise\",\n",
        "        \"not living up\", \"fell short\", \"underwhelming\", \"not as expected\",\n",
        "        \"worse than\", \"regrettable\", \"unfortunate\", \"dissatisfied\"\n",
        "    ]\n",
        "    conspiracy_phrases = [\n",
        "        \"cover up\", \"hidden agenda\", \"conspiracy\", \"suppressed\",\n",
        "        \"they don't want you to know\", \"mainstream media\", \"deep state\",\n",
        "        \"false flag\", \"controlled opposition\", \"agenda\"\n",
        "    ]\n",
        "    political_phrases = [\n",
        "        \"democrat\", \"republican\", \"senate\", \"congress\", \"election\",\n",
        "        \"campaign\", \"legislation\", \"policy\", \"administration\", \"white house\",\n",
        "        \"senator\", \"representative\", \"bill\", \"amendment\", \"vote\"\n",
        "    ]\n",
        "    shocking_phrases = [\n",
        "        \"unbelievable\", \"shocking\", \"astonishing\", \"incredible\",\n",
        "        \"hard to believe\", \"can't believe\", \"mind-blowing\", \"stunning\",\n",
        "        \"outrageous\", \"appalling\", \"horrifying\"\n",
        "    ]\n",
        "    propaganda_phrases = [\n",
        "        \"fake news\", \"hoax\", \"propaganda\", \"misinformation\",\n",
        "        \"disinformation\", \"media lies\", \"narrative\", \"psychological operation\",\n",
        "        \"brainwashing\", \"manufactured consent\"\n",
        "    ]\n",
        "\n",
        "    # Convert phrases to pattern dictionaries\n",
        "    patterns = []\n",
        "    patterns += [{\"label\": \"DISAPPOINTED\", \"pattern\": text} for text in disappointed_phrases]\n",
        "    patterns += [{\"label\": \"CONSPIRACY\", \"pattern\": text} for text in conspiracy_phrases]\n",
        "    patterns += [{\"label\": \"POLITICAL\", \"pattern\": text} for text in political_phrases]\n",
        "    patterns += [{\"label\": \"SHOCKING\", \"pattern\": text} for text in shocking_phrases]\n",
        "    patterns += [{\"label\": \"PROPAGANDA\", \"pattern\": text} for text in propaganda_phrases]\n",
        "\n",
        "    # Add custom patterns to the pipeline\n",
        "    ruler.add_patterns(patterns)\n",
        "    return nlp\n",
        "\n",
        "# Apply custom entity ruler to spaCy pipeline\n",
        "nlp = setup_entity_ruler(nlp)"
      ],
      "metadata": {
        "id": "EVY5CEXaE-Jg"
      },
      "execution_count": 92,
      "outputs": []
    },
    {
      "cell_type": "code",
      "source": [
        "# Add binary semantic flags and entity count features to dataframe\n",
        "def add_custom_features(df, text_col=\"combined_text\"):\n",
        "    # Initialize new feature columns with zeros\n",
        "    df[\"is_disappointed\"] = 0\n",
        "    df[\"is_conspiracy\"] = 0\n",
        "    df[\"is_political\"] = 0\n",
        "    df[\"is_shocking\"] = 0\n",
        "    df[\"is_propaganda\"] = 0\n",
        "    df[\"num_entities\"] = 0\n",
        "\n",
        "    # Analyze each sample\n",
        "    for idx, row in df.iterrows():\n",
        "        doc = nlp(row[text_col])\n",
        "        labels_found = set(ent.label_ for ent in doc.ents)\n",
        "\n",
        "        # Set binary flags if pattern detected\n",
        "        if \"DISAPPOINTED\" in labels_found:\n",
        "            df.at[idx, \"is_disappointed\"] = 1\n",
        "        if \"CONSPIRACY\" in labels_found:\n",
        "            df.at[idx, \"is_conspiracy\"] = 1\n",
        "        if \"POLITICAL\" in labels_found:\n",
        "            df.at[idx, \"is_political\"] = 1\n",
        "        if \"SHOCKING\" in labels_found:\n",
        "            df.at[idx, \"is_shocking\"] = 1\n",
        "        if \"PROPAGANDA\" in labels_found:\n",
        "            df.at[idx, \"is_propaganda\"] = 1\n",
        "\n",
        "        # Count number of matched entities\n",
        "        df.at[idx, \"num_entities\"] = len(doc.ents)\n",
        "\n",
        "    return df"
      ],
      "metadata": {
        "id": "j8j-OI2wFChd"
      },
      "execution_count": 93,
      "outputs": []
    },
    {
      "cell_type": "code",
      "source": [
        "# Apply semantic and entity features\n",
        "df = add_custom_features(df)\n",
        "\n",
        "df['text_length'] = df['combined_text'].apply(len)  # character length\n",
        "df['word_count'] = df['combined_text'].apply(lambda x: len(x.split()))  # word tokens\n",
        "df['exclamation_count'] = df['combined_text'].apply(lambda x: x.count('!'))\n",
        "df['question_count'] = df['combined_text'].apply(lambda x: x.count('?'))\n",
        "df['quote_count'] = df['combined_text'].apply(lambda x: x.count('\"') + x.count(\"'\"))"
      ],
      "metadata": {
        "id": "Yo90l_DNFIuF"
      },
      "execution_count": 94,
      "outputs": []
    },
    {
      "cell_type": "code",
      "source": [
        "print(df.head())"
      ],
      "metadata": {
        "colab": {
          "base_uri": "https://localhost:8080/"
        },
        "id": "FnA713ZnJNKO",
        "outputId": "375d888f-8e3d-471f-fcbb-37703f1d6a6c"
      },
      "execution_count": 95,
      "outputs": [
        {
          "output_type": "stream",
          "name": "stdout",
          "text": [
            "   label                                      combined_text  fake_ratio  \\\n",
            "0      1  says the annies list political group supports ...    1.000000   \n",
            "1      0  when did the decline of coal start? it started...    0.000000   \n",
            "2      0  hillary clinton agrees with john mccain by vot...    0.317125   \n",
            "3      1  health care reform legislation is likely to ma...    0.897436   \n",
            "4      0  the economic turnaround started at the end of ...    0.400000   \n",
            "\n",
            "   is_disappointed  is_conspiracy  is_political  is_shocking  is_propaganda  \\\n",
            "0                0              0             1            0              0   \n",
            "1                0              0             1            0              0   \n",
            "2                0              0             0            0              0   \n",
            "3                0              0             1            0              0   \n",
            "4                0              0             0            0              0   \n",
            "\n",
            "   num_entities  text_length  word_count  exclamation_count  question_count  \\\n",
            "0             1          132          17                  0               0   \n",
            "1             1          218          31                  0               1   \n",
            "2             0          146          23                  0               0   \n",
            "3             1          117          17                  0               0   \n",
            "4             0          101          16                  0               0   \n",
            "\n",
            "   quote_count  \n",
            "0            0  \n",
            "1            0  \n",
            "2            0  \n",
            "3            0  \n",
            "4            0  \n"
          ]
        }
      ]
    },
    {
      "cell_type": "code",
      "source": [
        "# Re-split combined dataframe back into original splits\n",
        "train_df = df.iloc[:train_size]\n",
        "val_df = df.iloc[train_size:train_size+val_size]\n",
        "test_df = df.iloc[train_size+val_size:]"
      ],
      "metadata": {
        "id": "aA_tYKScEjPG"
      },
      "execution_count": 96,
      "outputs": []
    },
    {
      "cell_type": "code",
      "source": [
        "# Output summary information\n",
        "print(f\"Train size: {len(train_df)}, Val size: {len(val_df)}, Test size: {len(test_df)}\")\n",
        "print(\"Class distribution in train set:\")\n",
        "print(train_df['label'].value_counts(normalize=True))"
      ],
      "metadata": {
        "id": "uRUvKVvrEnMl",
        "colab": {
          "base_uri": "https://localhost:8080/"
        },
        "outputId": "51f8179c-961b-4e1c-de41-8f2e9cdf86a1"
      },
      "execution_count": 98,
      "outputs": [
        {
          "output_type": "stream",
          "name": "stdout",
          "text": [
            "Train size: 10240, Val size: 1284, Test size: 1267\n",
            "Class distribution in train set:\n",
            "label\n",
            "0    0.561719\n",
            "1    0.438281\n",
            "Name: proportion, dtype: float64\n"
          ]
        }
      ]
    },
    {
      "cell_type": "code",
      "source": [
        "# Core machine learning and deep learning libraries\n",
        "import torch\n",
        "import torch.nn as nn\n",
        "from torch.utils.data import Dataset, DataLoader\n",
        "\n",
        "# Hugging Face Transformers library\n",
        "from transformers import XLMRobertaTokenizer, XLMRobertaModel\n",
        "\n",
        "# Optimization and metrics\n",
        "from torch.optim import AdamW\n",
        "from torch.optim.lr_scheduler import ReduceLROnPlateau\n",
        "from sklearn.metrics import accuracy_score, precision_score, recall_score, f1_score, roc_auc_score\n",
        "\n",
        "# Preprocessing and utility libraries\n",
        "from sklearn.preprocessing import StandardScaler\n",
        "import numpy as np\n",
        "from tqdm import tqdm\n",
        "from collections import Counter\n",
        "import matplotlib.pyplot as plt"
      ],
      "metadata": {
        "id": "OWUGmKI-GZc4"
      },
      "execution_count": 17,
      "outputs": []
    },
    {
      "cell_type": "code",
      "source": [
        "# Automatically select GPU if available, else use CPU\n",
        "device = torch.device('cuda' if torch.cuda.is_available() else 'cpu')\n",
        "\n",
        "# Load tokenizer for XLM-RoBERTa base model\n",
        "tokenizer = XLMRobertaTokenizer.from_pretrained('xlm-roberta-base')"
      ],
      "metadata": {
        "id": "i8q3F_0KGiAy",
        "colab": {
          "base_uri": "https://localhost:8080/",
          "height": 145,
          "referenced_widgets": [
            "a58c3b7c91854a83bc1be5a9e578aee0",
            "2cb8ebb1a35c4c1b8dad82f1ba9f7c46",
            "6bff7453d89642cfaac0a5dc7f8afb8a",
            "fbd7b3099f7840518f9a9efe8cf02209",
            "0d20c33c0d70494b84152f3d6ccb0300",
            "60311ce58b604df8badb01a80c4d9387",
            "b16d393a420c47d0b2877b01c30994fc",
            "9593a1690c894b71aacd6875dc2c1c6b",
            "23e713c40fde45259bfefaf32f445bc6",
            "b4f3f56bdcc241359203ec42fdeabbb4",
            "3fb55fc04d6d49d1bdf85516059ca404",
            "94542761e47941ee88349d33c6279334",
            "f76aae95654c47fc845edc63f28320c4",
            "9d395504c90f4757854f3dfc9af00c25",
            "f7072b88004e4ce1b013b470094a3cec",
            "e8b8db59828742a2b92ceffd89290bab",
            "b54ec25d93384a6cbf7cb4e40118584c",
            "c3465eeb828843d886d7a3c16f23fe8c",
            "0f34e0963e3a484fb2742c3fad61b324",
            "81f7ff7d69284b30b4d5281276af9e38",
            "ab92d04e0eb6456b91c99096fcd9222c",
            "8db3761a18514e39a035407971c54271",
            "4e9b948d1c5e4bb4adc10b79334b9996",
            "5d443c7d65164d5b9845e153bde2db5e",
            "9307143c8ef84c169948a1d2515e5a64",
            "aca7fe1fd431488082cc1b5bcad10e99",
            "352f7acd70204bd29ca07d8ce22c07be",
            "596d53377c34416a88a05af3c53762f1",
            "f559e3046bdc4b7cb2f58f5b85411032",
            "3f416cddc8c743fd98b4be01fa4bfa1f",
            "237247c1169943fe8fb118d7358afb50",
            "ff09955084564fc98cc0fb076db5ec2b",
            "e5035b9ce9234f069c7755c2eeb184c7",
            "cbeb2fa93e8b4593af860c0e51e06722",
            "bf318fd5d83e4faeb93652c33c39a9c6",
            "029a8f6a9df94ad086f7313e9a9deb2e",
            "c141c01275de45f8b55c43f57cc9ec8e",
            "9da95af7f22047f8bc842bb36570e631",
            "16a4c25a1fb74ec08fb04239c2f3612a",
            "13bffc8d484d40e6b5a3d828377e3c80",
            "3db681e485734cc8aa76a42ab0701ed3",
            "fa0830d04a6f48e68edde09890790f29",
            "8fe2ea1cfb754bb390c1ea0795497236",
            "e5f992d54e7245f6ade190a3ff414336"
          ]
        },
        "outputId": "920f1cd2-2759-460d-9e6b-1b98ddedd740"
      },
      "execution_count": 18,
      "outputs": [
        {
          "output_type": "display_data",
          "data": {
            "text/plain": [
              "tokenizer_config.json:   0%|          | 0.00/25.0 [00:00<?, ?B/s]"
            ],
            "application/vnd.jupyter.widget-view+json": {
              "version_major": 2,
              "version_minor": 0,
              "model_id": "a58c3b7c91854a83bc1be5a9e578aee0"
            }
          },
          "metadata": {}
        },
        {
          "output_type": "display_data",
          "data": {
            "text/plain": [
              "sentencepiece.bpe.model:   0%|          | 0.00/5.07M [00:00<?, ?B/s]"
            ],
            "application/vnd.jupyter.widget-view+json": {
              "version_major": 2,
              "version_minor": 0,
              "model_id": "94542761e47941ee88349d33c6279334"
            }
          },
          "metadata": {}
        },
        {
          "output_type": "display_data",
          "data": {
            "text/plain": [
              "tokenizer.json:   0%|          | 0.00/9.10M [00:00<?, ?B/s]"
            ],
            "application/vnd.jupyter.widget-view+json": {
              "version_major": 2,
              "version_minor": 0,
              "model_id": "4e9b948d1c5e4bb4adc10b79334b9996"
            }
          },
          "metadata": {}
        },
        {
          "output_type": "display_data",
          "data": {
            "text/plain": [
              "config.json:   0%|          | 0.00/615 [00:00<?, ?B/s]"
            ],
            "application/vnd.jupyter.widget-view+json": {
              "version_major": 2,
              "version_minor": 0,
              "model_id": "cbeb2fa93e8b4593af860c0e51e06722"
            }
          },
          "metadata": {}
        }
      ]
    },
    {
      "cell_type": "code",
      "source": [
        "# Compute class distribution to apply class weights\n",
        "class_counts = Counter(train_df['label'])\n",
        "total = sum(class_counts.values())\n",
        "class_weights = torch.tensor([total / class_counts[0], total / class_counts[1]], dtype=torch.float32).to(device)"
      ],
      "metadata": {
        "id": "X96JR4F0Gmne"
      },
      "execution_count": 19,
      "outputs": []
    },
    {
      "cell_type": "code",
      "source": [
        "# List of all engineered numeric features\n",
        "numeric_columns = [\n",
        "    'fake_ratio', 'text_length', 'word_count',\n",
        "    'exclamation_count', 'question_count', 'quote_count',\n",
        "    'is_disappointed', 'is_conspiracy', 'is_political',\n",
        "    'is_shocking', 'is_propaganda', 'num_entities'\n",
        "]\n",
        "\n",
        "# Apply standard scaling to numeric features\n",
        "scaler = StandardScaler()\n",
        "train_numeric = scaler.fit_transform(train_df[numeric_columns])\n",
        "val_numeric = scaler.transform(val_df[numeric_columns])\n",
        "test_numeric = scaler.transform(test_df[numeric_columns])"
      ],
      "metadata": {
        "id": "7zFkbJK5GyXv"
      },
      "execution_count": 20,
      "outputs": []
    },
    {
      "cell_type": "code",
      "source": [
        "class EnhancedFakeNewsDataset(Dataset):\n",
        "    def __init__(self, df, numeric_features, tokenizer, max_len=256):\n",
        "        self.texts = list(df['combined_text'])\n",
        "        self.labels = list(df['label'])\n",
        "        self.numeric_features = numeric_features\n",
        "        self.tokenizer = tokenizer\n",
        "        self.max_len = max_len\n",
        "\n",
        "    def __len__(self):\n",
        "        return len(self.texts)\n",
        "\n",
        "    def __getitem__(self, idx):\n",
        "        text = str(self.texts[idx])\n",
        "        label = self.labels[idx]\n",
        "        numeric = torch.tensor(self.numeric_features[idx], dtype=torch.float32)\n",
        "        encoding = self.tokenizer(text, truncation=True, padding='max_length', max_length=self.max_len, return_tensors='pt')\n",
        "        return {\n",
        "            'input_ids': encoding['input_ids'].squeeze(0),\n",
        "            'attention_mask': encoding['attention_mask'].squeeze(0),\n",
        "            'numeric_features': numeric,\n",
        "            'labels': torch.tensor(label, dtype=torch.long)\n",
        "        }"
      ],
      "metadata": {
        "id": "bZiXfOjDG2n_"
      },
      "execution_count": 21,
      "outputs": []
    },
    {
      "cell_type": "code",
      "source": [
        "class FocalLoss(nn.Module):\n",
        "    def __init__(self, alpha=1, gamma=2):\n",
        "        super(FocalLoss, self).__init__()\n",
        "        self.alpha = alpha\n",
        "        self.gamma = gamma\n",
        "\n",
        "    def forward(self, inputs, targets):\n",
        "        CE_loss = nn.functional.cross_entropy(inputs, targets, reduction='none')\n",
        "        pt = torch.exp(-CE_loss)\n",
        "        F_loss = self.alpha * (1 - pt) ** self.gamma * CE_loss\n",
        "        return F_loss.mean()"
      ],
      "metadata": {
        "id": "RtX3zuJeG71Y"
      },
      "execution_count": 22,
      "outputs": []
    },
    {
      "cell_type": "code",
      "source": [
        "class EnhancedRobertaClassifier(nn.Module):\n",
        "    def __init__(self, n_features=12, dropout_rate=0.3):\n",
        "        super(EnhancedRobertaClassifier, self).__init__()\n",
        "\n",
        "        # Load base XLM-RoBERTa model\n",
        "        self.roberta = XLMRobertaModel.from_pretrained('xlm-roberta-base')\n",
        "\n",
        "        # Freeze most layers, only fine-tune last 4 transformer layers\n",
        "        for param in self.roberta.parameters():\n",
        "            param.requires_grad = False\n",
        "        for layer in self.roberta.encoder.layer[-4:]:\n",
        "            for param in layer.parameters():\n",
        "                param.requires_grad = True\n",
        "\n",
        "        # Text processing branch\n",
        "        self.text_fc = nn.Sequential(\n",
        "            nn.Dropout(dropout_rate),\n",
        "            nn.Linear(self.roberta.config.hidden_size, 512),\n",
        "            nn.GELU(),\n",
        "            nn.Linear(512, 256),\n",
        "            nn.GELU(),\n",
        "            nn.LayerNorm(256)\n",
        "        )\n",
        "        self.text_residual = nn.Linear(self.roberta.config.hidden_size, 256)\n",
        "\n",
        "        # Numeric feature processing branch\n",
        "        self.numeric_fc = nn.Sequential(\n",
        "            nn.Linear(n_features, 128),\n",
        "            nn.GELU(),\n",
        "            nn.Linear(128, 64),\n",
        "            nn.GELU(),\n",
        "            nn.LayerNorm(64)\n",
        "        )\n",
        "\n",
        "        # Fusion and final classification\n",
        "        self.combined_fc = nn.Sequential(\n",
        "            nn.Dropout(dropout_rate),\n",
        "            nn.Linear(256 + 64, 128),\n",
        "            nn.GELU(),\n",
        "            nn.Dropout(dropout_rate),\n",
        "            nn.Linear(128, 64),\n",
        "            nn.GELU(),\n",
        "            nn.Linear(64, 2)\n",
        "        )\n",
        "\n",
        "    def forward(self, input_ids, attention_mask, numeric_features):\n",
        "        outputs = self.roberta(input_ids=input_ids, attention_mask=attention_mask)\n",
        "        pooled_output = outputs.last_hidden_state.mean(dim=1)\n",
        "\n",
        "        residual = self.text_residual(pooled_output)\n",
        "        text_features = self.text_fc(pooled_output) + residual\n",
        "\n",
        "        numeric_features = self.numeric_fc(numeric_features)\n",
        "\n",
        "        combined = torch.cat((text_features, numeric_features), dim=1)\n",
        "        logits = self.combined_fc(combined)\n",
        "        return logits"
      ],
      "metadata": {
        "id": "dX28a1FeG8uG"
      },
      "execution_count": 23,
      "outputs": []
    },
    {
      "cell_type": "code",
      "source": [
        "def train_enhanced_model(train_loader, val_loader, test_loader, epochs, learning_rate):\n",
        "    model = EnhancedRobertaClassifier().to(device)\n",
        "    optimizer = AdamW(model.parameters(), lr=learning_rate, weight_decay=0.01)\n",
        "    scheduler = ReduceLROnPlateau(optimizer, mode='min', factor=0.5, patience=2, verbose=True)\n",
        "    loss_fn = FocalLoss().to(device)\n",
        "    scaler = torch.cuda.amp.GradScaler()\n",
        "\n",
        "    best_val_loss = float('inf')\n",
        "    patience = 5\n",
        "    patience_counter = 0\n",
        "\n",
        "    train_losses, val_losses = [], []\n",
        "    train_accuracies, val_accuracies = [], []\n",
        "\n",
        "    for epoch in range(epochs):\n",
        "        model.train()\n",
        "        train_correct, train_total = 0, 0\n",
        "        total_train_loss = 0\n",
        "\n",
        "        for batch in tqdm(train_loader, desc=f\"Epoch {epoch+1}/{epochs}\"):\n",
        "            optimizer.zero_grad()\n",
        "            input_ids = batch['input_ids'].to(device)\n",
        "            attention_mask = batch['attention_mask'].to(device)\n",
        "            numeric_features = batch['numeric_features'].to(device)\n",
        "            labels = batch['labels'].to(device)\n",
        "o\n",
        "            with torch.amp.autocast(device_type='cuda', dtype=torch.float16):\n",
        "                logits = model(input_ids, attention_mask, numeric_features)\n",
        "                loss = loss_fn(logits, labels)\n",
        "\n",
        "            scaler.scale(loss).backward()\n",
        "            scaler.unscale_(optimizer)\n",
        "            torch.nn.utils.clip_grad_norm_(model.parameters(), max_norm=1.0)\n",
        "            scaler.step(optimizer)\n",
        "            scaler.update()\n",
        "\n",
        "            preds = torch.argmax(logits.detach(), dim=1)\n",
        "            train_correct += (preds == labels).sum().item()\n",
        "            train_total += labels.size(0)\n",
        "            total_train_loss += loss.item()\n",
        "\n",
        "        train_acc = train_correct / train_total\n",
        "        avg_train_loss = total_train_loss / len(train_loader)\n",
        "\n",
        "        # Validation\n",
        "        model.eval()\n",
        "        val_correct, val_total, val_loss = 0, 0, 0\n",
        "\n",
        "        with torch.no_grad():\n",
        "            for batch in val_loader:\n",
        "                input_ids = batch['input_ids'].to(device)\n",
        "                attention_mask = batch['attention_mask'].to(device)\n",
        "                numeric_features = batch['numeric_features'].to(device)\n",
        "                labels = batch['labels'].to(device)\n",
        "\n",
        "                logits = model(input_ids, attention_mask, numeric_features)\n",
        "                loss = loss_fn(logits, labels)\n",
        "                val_loss += loss.item()\n",
        "\n",
        "                preds = torch.argmax(logits, dim=1)\n",
        "                val_correct += (preds == labels).sum().item()\n",
        "                val_total += labels.size(0)\n",
        "\n",
        "        val_acc = val_correct / val_total\n",
        "        avg_val_loss = val_loss / len(val_loader)\n",
        "        scheduler.step(avg_val_loss)\n",
        "\n",
        "        print(f\"\\nEpoch {epoch+1}: Train Loss: {avg_train_loss:.4f} | Train Acc: {train_acc:.4f} | Val Loss: {avg_val_loss:.4f} | Val Acc: {val_acc:.4f}\")\n",
        "\n",
        "        train_losses.append(avg_train_loss)\n",
        "        val_losses.append(avg_val_loss)\n",
        "        train_accuracies.append(train_acc)\n",
        "        val_accuracies.append(val_acc)\n",
        "\n",
        "        if avg_val_loss < best_val_loss:\n",
        "            best_val_loss = avg_val_loss\n",
        "            patience_counter = 0\n",
        "            torch.save(model.state_dict(), 'best_enhanced_model.pt')\n",
        "        else:\n",
        "            patience_counter += 1\n",
        "            if patience_counter >= patience:\n",
        "                print(\"Early stopping.\")\n",
        "                break\n",
        "\n",
        "    # Plot loss and accuracy curves\n",
        "    epochs_range = range(1, len(train_losses) + 1)\n",
        "\n",
        "    plt.figure()\n",
        "    plt.plot(epochs_range, train_losses, label='Train Loss')\n",
        "    plt.plot(epochs_range, val_losses, label='Val Loss')\n",
        "    plt.xlabel(\"Epoch\")\n",
        "    plt.ylabel(\"Loss\")\n",
        "    plt.title(\"Loss over Epochs\")\n",
        "    plt.legend()\n",
        "    plt.show()\n",
        "\n",
        "    plt.figure()\n",
        "    plt.plot(epochs_range, train_accuracies, label='Train Accuracy')\n",
        "    plt.plot(epochs_range, val_accuracies, label='Val Accuracy')\n",
        "    plt.xlabel(\"Epoch\")\n",
        "    plt.ylabel(\"Accuracy\")\n",
        "    plt.title(\"Accuracy over Epochs\")\n",
        "    plt.legend()\n",
        "    plt.show()\n",
        "\n",
        "    return model"
      ],
      "metadata": {
        "id": "nL7wwhGMHIIy"
      },
      "execution_count": 27,
      "outputs": []
    },
    {
      "cell_type": "code",
      "source": [
        "# Instantiate datasets\n",
        "train_ds = EnhancedFakeNewsDataset(train_df, train_numeric, tokenizer)\n",
        "val_ds = EnhancedFakeNewsDataset(val_df, val_numeric, tokenizer)\n",
        "test_ds = EnhancedFakeNewsDataset(test_df, test_numeric, tokenizer)\n",
        "\n",
        "# Data loaders for efficient batching\n",
        "train_loader = DataLoader(train_ds, batch_size=16, shuffle=True, num_workers=2)\n",
        "val_loader = DataLoader(val_ds, batch_size=16, shuffle=False, num_workers=2)\n",
        "test_loader = DataLoader(test_ds, batch_size=16, shuffle=False, num_workers=2)\n",
        "\n",
        "# Train the model\n",
        "print(\"\\nTraining enhanced XLM-RoBERTa model...\")\n",
        "model = train_enhanced_model(\n",
        "    train_loader,\n",
        "    val_loader,\n",
        "    test_loader,\n",
        "    epochs=10,\n",
        "    learning_rate=2e-5\n",
        ")"
      ],
      "metadata": {
        "id": "ruEkdTq9HLsO",
        "colab": {
          "base_uri": "https://localhost:8080/",
          "height": 1000
        },
        "outputId": "cc270124-00d4-4577-deed-f749506546d1"
      },
      "execution_count": 42,
      "outputs": [
        {
          "output_type": "stream",
          "name": "stdout",
          "text": [
            "\n",
            "Training enhanced XLM-RoBERTa model...\n"
          ]
        },
        {
          "output_type": "stream",
          "name": "stderr",
          "text": [
            "Epoch 1/10: 100%|██████████| 640/640 [00:23<00:00, 27.24it/s]\n"
          ]
        },
        {
          "output_type": "stream",
          "name": "stdout",
          "text": [
            "\n",
            "Epoch 1: Train Loss: 0.1491 | Train Acc: 0.6804 | Val Loss: 0.1309 | Val Acc: 0.7360\n"
          ]
        },
        {
          "output_type": "stream",
          "name": "stderr",
          "text": [
            "Epoch 2/10: 100%|██████████| 640/640 [00:23<00:00, 26.87it/s]\n"
          ]
        },
        {
          "output_type": "stream",
          "name": "stdout",
          "text": [
            "\n",
            "Epoch 2: Train Loss: 0.1341 | Train Acc: 0.7317 | Val Loss: 0.1278 | Val Acc: 0.7445\n"
          ]
        },
        {
          "output_type": "stream",
          "name": "stderr",
          "text": [
            "Epoch 3/10: 100%|██████████| 640/640 [00:23<00:00, 27.09it/s]\n"
          ]
        },
        {
          "output_type": "stream",
          "name": "stdout",
          "text": [
            "\n",
            "Epoch 3: Train Loss: 0.1290 | Train Acc: 0.7496 | Val Loss: 0.1251 | Val Acc: 0.7516\n"
          ]
        },
        {
          "output_type": "stream",
          "name": "stderr",
          "text": [
            "Epoch 4/10: 100%|██████████| 640/640 [00:23<00:00, 27.45it/s]\n"
          ]
        },
        {
          "output_type": "stream",
          "name": "stdout",
          "text": [
            "\n",
            "Epoch 4: Train Loss: 0.1256 | Train Acc: 0.7571 | Val Loss: 0.1257 | Val Acc: 0.7438\n"
          ]
        },
        {
          "output_type": "stream",
          "name": "stderr",
          "text": [
            "Epoch 5/10: 100%|██████████| 640/640 [00:23<00:00, 27.52it/s]\n"
          ]
        },
        {
          "output_type": "stream",
          "name": "stdout",
          "text": [
            "\n",
            "Epoch 5: Train Loss: 0.1194 | Train Acc: 0.7749 | Val Loss: 0.1257 | Val Acc: 0.7539\n"
          ]
        },
        {
          "output_type": "stream",
          "name": "stderr",
          "text": [
            "Epoch 6/10: 100%|██████████| 640/640 [00:23<00:00, 26.70it/s]\n"
          ]
        },
        {
          "output_type": "stream",
          "name": "stdout",
          "text": [
            "\n",
            "Epoch 6: Train Loss: 0.1077 | Train Acc: 0.8107 | Val Loss: 0.1363 | Val Acc: 0.7430\n"
          ]
        },
        {
          "output_type": "stream",
          "name": "stderr",
          "text": [
            "Epoch 7/10: 100%|██████████| 640/640 [00:23<00:00, 27.51it/s]\n"
          ]
        },
        {
          "output_type": "stream",
          "name": "stdout",
          "text": [
            "\n",
            "Epoch 7: Train Loss: 0.0905 | Train Acc: 0.8511 | Val Loss: 0.1573 | Val Acc: 0.7298\n"
          ]
        },
        {
          "output_type": "stream",
          "name": "stderr",
          "text": [
            "Epoch 8/10: 100%|██████████| 640/640 [00:23<00:00, 27.19it/s]\n"
          ]
        },
        {
          "output_type": "stream",
          "name": "stdout",
          "text": [
            "\n",
            "Epoch 8: Train Loss: 0.0806 | Train Acc: 0.8740 | Val Loss: 0.1939 | Val Acc: 0.7173\n",
            "Early stopping.\n"
          ]
        },
        {
          "output_type": "display_data",
          "data": {
            "text/plain": [
              "<Figure size 640x480 with 1 Axes>"
            ],
            "image/png": "[encoded data removed]"
          },
          "metadata": {}
        },
        {
          "output_type": "display_data",
          "data": {
            "text/plain": [
              "<Figure size 640x480 with 1 Axes>"
            ],
            "image/png": "[encoded data removed]"
          },
          "metadata": {}
        }
      ]
    },
    {
      "cell_type": "code",
      "source": [
        "def calculate_final_metrics(true_labels, predictions, probs):\n",
        "    acc = accuracy_score(true_labels, predictions)\n",
        "    prec = precision_score(true_labels, predictions)\n",
        "    rec = recall_score(true_labels, predictions)\n",
        "    f1 = f1_score(true_labels, predictions)\n",
        "    auc = roc_auc_score(true_labels, probs)\n",
        "\n",
        "    print(\"\\n=== Final Test Set Metrics ===\")\n",
        "    print(f\"Accuracy: {acc:.4f}\")\n",
        "    print(f\"Precision: {prec:.4f}\")\n",
        "    print(f\"Recall: {rec:.4f}\")\n",
        "    print(f\"F1 Score: {f1:.4f}\")\n",
        "    print(f\"AUC Score: {auc:.4f}\")"
      ],
      "metadata": {
        "id": "PEU_z57tHBV-"
      },
      "execution_count": 29,
      "outputs": []
    },
    {
      "cell_type": "code",
      "source": [
        "# Final evaluation on test set\n",
        "model.load_state_dict(torch.load('best_enhanced_model.pt'))\n",
        "model.eval()\n",
        "test_preds, test_true, test_probs = [], [], []\n",
        "\n",
        "with torch.no_grad():\n",
        "    for batch in test_loader:\n",
        "      input_ids = batch['input_ids'].to(device)\n",
        "      attention_mask = batch['attention_mask'].to(device)\n",
        "      numeric_features = batch['numeric_features'].to(device)\n",
        "      labels = batch['labels'].to(device)\n",
        "\n",
        "      logits = model(input_ids, attention_mask, numeric_features)\n",
        "      probs = torch.softmax(logits, dim=1)\n",
        "      preds = torch.argmax(probs, dim=1)\n",
        "\n",
        "      test_preds.extend(preds.cpu().numpy())\n",
        "      test_true.extend(labels.cpu().numpy())\n",
        "      test_probs.extend(probs[:, 1].cpu().numpy())\n",
        "calculate_final_metrics(test_true, test_preds, test_probs)"
      ],
      "metadata": {
        "id": "MAMif8pNHdt9",
        "colab": {
          "base_uri": "https://localhost:8080/"
        },
        "outputId": "1f9feb47-a52e-457b-f96e-e59fea5a0bf7"
      },
      "execution_count": 43,
      "outputs": [
        {
          "output_type": "stream",
          "name": "stdout",
          "text": [
            "\n",
            "=== Final Test Set Metrics ===\n",
            "Accuracy: 0.7443\n",
            "Precision: 0.6880\n",
            "Recall: 0.7577\n",
            "F1 Score: 0.7212\n",
            "AUC Score: 0.8305\n"
          ]
        }
      ]
    },
    {
      "cell_type": "code",
      "source": [
        "# Preprocessing and modeling libraries\n",
        "from sklearn.pipeline import Pipeline\n",
        "from sklearn.feature_extraction.text import TfidfVectorizer\n",
        "from sklearn.preprocessing import StandardScaler\n",
        "from sklearn.compose import ColumnTransformer\n",
        "\n",
        "# Evaluation metrics\n",
        "from sklearn.metrics import accuracy_score, precision_score, recall_score, f1_score, roc_auc_score\n",
        "\n",
        "# Benchmark classifiers\n",
        "from xgboost import XGBClassifier\n",
        "from sklearn.linear_model import LogisticRegression\n",
        "from sklearn.ensemble import RandomForestClassifier, GradientBoostingClassifier\n",
        "from sklearn.svm import SVC\n",
        "from sklearn.neural_network import MLPClassifier"
      ],
      "metadata": {
        "id": "d7YsAD06Fgu-"
      },
      "execution_count": 35,
      "outputs": []
    },
    {
      "cell_type": "code",
      "source": [
        "# Define column types\n",
        "text_features = 'combined_text'  # single text column\n",
        "numeric_features = [\n",
        "    'fake_ratio', 'text_length', 'word_count',\n",
        "    'exclamation_count', 'question_count', 'quote_count',\n",
        "    'is_disappointed', 'is_conspiracy', 'is_political',\n",
        "    'is_shocking', 'is_propaganda', 'num_entities'\n",
        "]"
      ],
      "metadata": {
        "id": "oykpfWFpFlw-"
      },
      "execution_count": 36,
      "outputs": []
    },
    {
      "cell_type": "code",
      "source": [
        "# TF-IDF transformation for text features\n",
        "text_transformer = Pipeline([\n",
        "    ('tfidf', TfidfVectorizer(\n",
        "        stop_words='english',\n",
        "        ngram_range=(1, 2),\n",
        "        max_features=5000,\n",
        "        sublinear_tf=True\n",
        "    ))\n",
        "])\n",
        "\n",
        "# Standardization for numerical features\n",
        "numeric_transformer = Pipeline([\n",
        "    ('scaler', StandardScaler())\n",
        "])\n",
        "\n",
        "# Column-wise preprocessing\n",
        "preprocessor = ColumnTransformer([\n",
        "    ('text', text_transformer, text_features),\n",
        "    ('num', numeric_transformer, numeric_features)\n",
        "])"
      ],
      "metadata": {
        "id": "lN1wdoBbFpbS"
      },
      "execution_count": 37,
      "outputs": []
    },
    {
      "cell_type": "code",
      "source": [
        "# Define a dictionary of benchmark models with tuned parameters\n",
        "models = {\n",
        "    \"XGBoost\": XGBClassifier(\n",
        "        n_estimators=200, max_depth=5, learning_rate=0.1,\n",
        "        subsample=0.8, colsample_bytree=0.8,\n",
        "        eval_metric='logloss', use_label_encoder=False,\n",
        "        random_state=42\n",
        "    ),\n",
        "    \"LogisticRegression\": LogisticRegression(\n",
        "        max_iter=1000, C=0.5, penalty='l2', solver='liblinear', random_state=42\n",
        "    ),\n",
        "    \"RandomForest\": RandomForestClassifier(\n",
        "        n_estimators=200, max_depth=10, min_samples_split=5, random_state=42\n",
        "    ),\n",
        "    \"SVM\": SVC(\n",
        "        C=1.0, kernel='rbf', probability=True, random_state=42\n",
        "    ),\n",
        "    \"GradientBoosting\": GradientBoostingClassifier(\n",
        "        n_estimators=200, learning_rate=0.05, max_depth=3, random_state=42\n",
        "    ),\n",
        "    \"MLP\": MLPClassifier(\n",
        "        hidden_layer_sizes=(100, 50), activation='relu',\n",
        "        solver='adam', early_stopping=True, random_state=42\n",
        "    )\n",
        "}"
      ],
      "metadata": {
        "id": "actWssE9Ft1r"
      },
      "execution_count": 38,
      "outputs": []
    },
    {
      "cell_type": "code",
      "source": [
        "# Set feature matrix and target vector\n",
        "X_train = train_df\n",
        "y_train = train_df['label']\n",
        "X_test = test_df\n",
        "y_test = test_df['label']"
      ],
      "metadata": {
        "id": "fql9LAAxFy19"
      },
      "execution_count": 39,
      "outputs": []
    },
    {
      "cell_type": "code",
      "source": [
        "# List to hold results for each classifier\n",
        "results = []\n",
        "\n",
        "# Iterate over each model, train and evaluate\n",
        "for name, model in models.items():\n",
        "    pipeline = Pipeline([\n",
        "        ('preprocessor', preprocessor),\n",
        "        ('classifier', model)\n",
        "    ])\n",
        "\n",
        "    pipeline.fit(X_train, y_train)\n",
        "\n",
        "    # Predict class and probability\n",
        "    y_test_pred = pipeline.predict(X_test)\n",
        "    y_test_proba = pipeline.predict_proba(X_test)[:, 1]\n",
        "\n",
        "    # Compute evaluation metrics\n",
        "    test_acc = accuracy_score(y_test, y_test_pred)\n",
        "    test_prec = precision_score(y_test, y_test_pred)\n",
        "    test_rec = recall_score(y_test, y_test_pred)\n",
        "    test_f1 = f1_score(y_test, y_test_pred)\n",
        "    test_auc = roc_auc_score(y_test, y_test_proba)\n",
        "\n",
        "    # Save results\n",
        "    results.append({\n",
        "        \"Model\": name,\n",
        "        \"Test Accuracy\": round(test_acc, 4),\n",
        "        \"Test Precision\": round(test_prec, 4),\n",
        "        \"Test Recall\": round(test_rec, 4),\n",
        "        \"Test F1\": round(test_f1, 4),\n",
        "        \"Test ROC-AUC\": round(test_auc, 4)\n",
        "    })"
      ],
      "metadata": {
        "id": "sP6vr4veF3X2"
      },
      "execution_count": 40,
      "outputs": []
    },
    {
      "cell_type": "code",
      "source": [
        "# Create a DataFrame of the collected results\n",
        "df_results = pd.DataFrame(results)\n",
        "\n",
        "# Display formatted results\n",
        "print(\"\\n=== Benchmark Models – Test Set Performance ===\")\n",
        "print(df_results.to_string(index=False))"
      ],
      "metadata": {
        "id": "dfoDxR9VF4ON",
        "colab": {
          "base_uri": "https://localhost:8080/"
        },
        "outputId": "737f0dde-1d97-41f4-a7ab-9ded7b41d845"
      },
      "execution_count": 41,
      "outputs": [
        {
          "output_type": "stream",
          "name": "stdout",
          "text": [
            "\n",
            "=== Benchmark Models – Test Set Performance ===\n",
            "             Model  Test Accuracy  Test Precision  Test Recall  Test F1  Test ROC-AUC\n",
            "           XGBoost         0.7451          0.7386       0.6438   0.6879        0.8186\n",
            "LogisticRegression         0.7459          0.7362       0.6510   0.6910        0.8281\n",
            "      RandomForest         0.6093          0.7636       0.1519   0.2534        0.7665\n",
            "               SVM         0.7459          0.7584       0.6130   0.6780        0.8188\n",
            "  GradientBoosting         0.7482          0.7448       0.6438   0.6906        0.8217\n",
            "               MLP         0.7522          0.7357       0.6745   0.7038        0.8266\n"
          ]
        }
      ]
    }
  ]
}
